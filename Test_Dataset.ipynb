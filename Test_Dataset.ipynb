{
 "cells": [
  {
   "cell_type": "markdown",
   "metadata": {},
   "source": [
    "- Date: 20 June 2019\n",
    "- Author: Hosein Fooladi\n",
    "- Topic: Data Exploration\n",
    "\n",
    "## Data Exploration\n",
    "\n",
    "In this notebook, I am going to explore the toy dataset that has been used during running the decagon code. I am going to understand it's structure in order to be able to replace it with actual dataset."
   ]
  },
  {
   "cell_type": "code",
   "execution_count": 5,
   "metadata": {},
   "outputs": [],
   "source": [
    "import os\n",
    "from itertools import combinations\n",
    "from collections import Counter\n",
    "from itertools import chain\n",
    "\n",
    "import numpy as np\n",
    "import networkx as nx\n",
    "import scipy.sparse as sp\n",
    "import pandas as pd\n",
    "\n",
    "from decagon.utility import rank_metrics, preprocessing\n",
    "from polypharmacy.utility import load_combo_se, load_ppi, load_mono_se, load_targets, load_categories, load_se_combo"
   ]
  },
  {
   "cell_type": "markdown",
   "metadata": {},
   "source": [
    "## Loading Data"
   ]
  },
  {
   "cell_type": "code",
   "execution_count": 6,
   "metadata": {},
   "outputs": [
    {
     "name": "stdout",
     "output_type": "stream",
     "text": [
      "Reading: data\\bio-decagon-combo.csv\n",
      "Drug combinations: 63473 Side effects: 1317\n",
      "Drug-drug interactions: 4649441\n",
      "Reading: data\\bio-decagon-ppi.csv\n",
      "Edges: 715612\n",
      "Nodes: 19081\n",
      "Reading: data\\bio-decagon-mono.csv\n",
      "Reading: data\\bio-decagon-targets-all.csv\n",
      "Reading: data\\bio-decagon-effectcategories.csv\n",
      "Reading: data\\bio-decagon-combo.csv\n"
     ]
    }
   ],
   "source": [
    "combo2stitch, combo2se, se2name = load_combo_se(os.path.join('data', 'bio-decagon-combo.csv'))\n",
    "net, node2idx = load_ppi(os.path.join('data', 'bio-decagon-ppi.csv'))\n",
    "stitch2se, se2name_mono = load_mono_se(os.path.join('data', 'bio-decagon-mono.csv'))\n",
    "stitch2proteins = load_targets(os.path.join('data', 'bio-decagon-targets-all.csv'))\n",
    "se2class, se2name_class = load_categories(os.path.join('data', 'bio-decagon-effectcategories.csv'))\n",
    "se2combo = load_se_combo(os.path.join('data', 'bio-decagon-combo.csv'))"
   ]
  },
  {
   "cell_type": "markdown",
   "metadata": {},
   "source": [
    "#### Bulding dictionary for stitches\n",
    "\n",
    "I am going to build a dictionary from stitch to index and vice versa. I am going to use this dictionary for creating sparse matrix."
   ]
  },
  {
   "cell_type": "code",
   "execution_count": 14,
   "metadata": {},
   "outputs": [],
   "source": [
    "# Creating dictionary from drug to index.\n",
    "\n",
    "stitchs = set([drug for drug_comb in combo2stitch.values() for drug in drug_comb])\n",
    "\n",
    "stitch2idx = {node: i for i, node in enumerate(stitchs)}\n",
    "idx2stitch = {i: node for i, node in enumerate(stitchs)}"
   ]
  },
  {
   "cell_type": "code",
   "execution_count": 15,
   "metadata": {},
   "outputs": [],
   "source": [
    "# Creating dictionary from side effects to index.\n",
    "\n",
    "se2idx = {node: i for i, node in enumerate(list(se2name.keys()))}\n",
    "idx2se = {i: node for i, node in enumerate(list(se2name.keys()))}"
   ]
  },
  {
   "cell_type": "markdown",
   "metadata": {},
   "source": [
    "#### Creating sparse matrix for drug gene interaction"
   ]
  },
  {
   "cell_type": "code",
   "execution_count": 35,
   "metadata": {},
   "outputs": [
    {
     "data": {
      "text/plain": [
       "<645x19081 sparse matrix of type '<class 'numpy.float64'>'\n",
       "\twith 18596 stored elements in COOrdinate format>"
      ]
     },
     "execution_count": 35,
     "metadata": {},
     "output_type": "execute_result"
    }
   ],
   "source": [
    "drug_gene_adj = preprocessing.get_sparse_mat(stitch2proteins, stitch2idx, node2idx)\n",
    "drug_gene_adj"
   ]
  },
  {
   "cell_type": "markdown",
   "metadata": {},
   "source": [
    "### Protein–protein and drug–protein interactions\n",
    "\n",
    "First, Let's consider the PPI network. There is a mismatch with these numbers and numbers that have been written in the paper. e.g., number of nodes in the PPI dataset is 19081, while this number is 19085 in the paper.\n",
    "\n",
    "In the Paper, it has been written that \"The network is unweighted and undirected with 19 085 proteins and 719 402 physical interactions\". But, I have found something a little different here by exploring PPI data.\n",
    "\n",
    "- Number of proteins: 19801\n",
    "\n",
    "- Number of edges (physical interaction): 715612\n",
    "\n",
    "\n",
    "Also:\n",
    "- Drug-drug interaction 4 649 441 which is different from 4 651 131"
   ]
  },
  {
   "cell_type": "markdown",
   "metadata": {},
   "source": [
    "### Drug–drug interaction and side effect data\n",
    "\n",
    "#### Number of Unique Drugs in drug combination side effect dataset\n",
    "\n",
    "Here I am going to explore a little more drug combination side effect dataset. In particular, I want to know how many unique drugs are avalable in this dataset. Fortunately, I have come up with the **same number** that mentioned in the paper."
   ]
  },
  {
   "cell_type": "code",
   "execution_count": 56,
   "metadata": {},
   "outputs": [
    {
     "name": "stdout",
     "output_type": "stream",
     "text": [
      "Number of unique drugs in drug combination side effect dataset is 645\n"
     ]
    }
   ],
   "source": [
    "unique_drugs = set(list(chain.from_iterable([combo2stitch[stitch] for stitch in combo2stitch])))\n",
    "\n",
    "print(\"Number of unique drugs in drug combination side effect dataset is %d\" % (len(unique_drugs)))"
   ]
  },
  {
   "cell_type": "markdown",
   "metadata": {},
   "source": [
    "But The number of side eefetc is different from the mentioned number in the paper. I have found 1317 side effect which is different from 964.\n",
    "\n",
    "There is this quote in the paper: \"In this study, we focus on predicting the 964 commonly occurring types of polypharmacy side effects that each occurred in at least 500 drug combinations.\"\n",
    "\n",
    "So, I am going to explore side effects that occure in at least 500 drug combinations."
   ]
  },
  {
   "cell_type": "code",
   "execution_count": 50,
   "metadata": {},
   "outputs": [
    {
     "name": "stdout",
     "output_type": "stream",
     "text": [
      "Number of side effects that occure in at least 500 drug combinations: 963\n"
     ]
    }
   ],
   "source": [
    "side_effects = Counter()\n",
    "count = 0\n",
    "\n",
    "for stitch in combo2se:\n",
    "    side_effects.update(combo2se[stitch])\n",
    "    \n",
    "for i in side_effects:\n",
    "    if side_effects[i] >= 500:\n",
    "        count+=1\n",
    "\n",
    "print(\"Number of side effects that occure in at least 500 drug combinations:\", count)"
   ]
  },
  {
   "cell_type": "markdown",
   "metadata": {},
   "source": [
    "So, I found out 963 side effects that occure in at least 500 drug combinations."
   ]
  },
  {
   "cell_type": "markdown",
   "metadata": {},
   "source": [
    "### Number of unique drugs and proteins in drug-target dataset"
   ]
  },
  {
   "cell_type": "code",
   "execution_count": 68,
   "metadata": {},
   "outputs": [
    {
     "name": "stdout",
     "output_type": "stream",
     "text": [
      "Reading: data\\bio-decagon-targets-all.csv\n",
      "There are 1774 unique drugs in the drug-target datbase\n",
      "There are 7795 unique genes in the drug-target datbase\n"
     ]
    }
   ],
   "source": [
    "print('There are %d unique drugs in the drug-target datbase' %len(stitch2proteins))\n",
    "\n",
    "def get_gene_counter(gene_map):\n",
    "    genes = []\n",
    "    for drug in gene_map:\n",
    "        genes += list(set(gene_map[drug]))\n",
    "    return Counter(genes)\n",
    "\n",
    "combo_counter = get_gene_counter(stitch2proteins)\n",
    "print('There are %d unique genes in the drug-target datbase' %len(combo_counter))"
   ]
  },
  {
   "cell_type": "code",
   "execution_count": 5,
   "metadata": {},
   "outputs": [
    {
     "name": "stdout",
     "output_type": "stream",
     "text": [
      "1774\n",
      "19081\n"
     ]
    }
   ],
   "source": [
    "## Bulding a dictionary from drugs to id and from proteins to id\n",
    "\n",
    "stitch2idx = {node: i for i, node in enumerate(list(stitch2proteins.keys()))}\n",
    "print(len(stitch2idx))\n",
    "print(len(node2idx))"
   ]
  },
  {
   "cell_type": "code",
   "execution_count": 93,
   "metadata": {},
   "outputs": [
    {
     "data": {
      "text/plain": [
       "array([0., 0., 0., ..., 0., 0., 0.])"
      ]
     },
     "execution_count": 93,
     "metadata": {},
     "output_type": "execute_result"
    }
   ],
   "source": [
    "list(list(stitch2proteins.values())[0])\n",
    "np.zeros(19801*1774)"
   ]
  },
  {
   "cell_type": "markdown",
   "metadata": {},
   "source": [
    "#### PPI Network\n",
    "\n",
    "First, I am going to construct PPi network for given dataset. It is very easy task. We can construct this network using networkx library. We shuld just provide the list of nodes and the list of edges and using this library to constrcut the PPI network. PPI has 19801 nodes.\n",
    "\n",
    "Note: The adjacency matrix type is sparse matrix. "
   ]
  },
  {
   "cell_type": "code",
   "execution_count": 54,
   "metadata": {},
   "outputs": [],
   "source": [
    "gene_net = net\n",
    "gene_adj = nx.adjacency_matrix(gene_net)\n",
    "gene_degrees = np.array(gene_adj.sum(axis=0)).squeeze()\n",
    "\n",
    "#gene_adj"
   ]
  },
  {
   "cell_type": "code",
   "execution_count": 10,
   "metadata": {},
   "outputs": [],
   "source": [
    "val_test_size = 0.05\n",
    "n_genes = len(node2idx)\n",
    "n_drugs = 400\n",
    "n_drugdrug_rel_types = 3"
   ]
  },
  {
   "cell_type": "code",
   "execution_count": 53,
   "metadata": {},
   "outputs": [
    {
     "data": {
      "text/plain": [
       "<19081x19081 sparse matrix of type '<class 'numpy.int32'>'\n",
       "\twith 1431224 stored elements in Compressed Sparse Row format>"
      ]
     },
     "execution_count": 53,
     "metadata": {},
     "output_type": "execute_result"
    }
   ],
   "source": [
    "gene_net = net\n",
    "gene_adj = nx.adjacency_matrix(gene_net)\n",
    "gene_degrees = np.array(gene_adj.sum(axis=0)).squeeze()\n",
    "\n",
    "gene_adj"
   ]
  },
  {
   "cell_type": "code",
   "execution_count": 26,
   "metadata": {},
   "outputs": [
    {
     "data": {
      "text/plain": [
       "18"
      ]
     },
     "execution_count": 26,
     "metadata": {},
     "output_type": "execute_result"
    }
   ],
   "source": [
    "gene_degrees[0]"
   ]
  },
  {
   "cell_type": "code",
   "execution_count": 36,
   "metadata": {},
   "outputs": [
    {
     "data": {
      "text/plain": [
       "<1x400 sparse matrix of type '<class 'numpy.int32'>'\n",
       "\twith 28 stored elements in Compressed Sparse Row format>"
      ]
     },
     "execution_count": 36,
     "metadata": {},
     "output_type": "execute_result"
    }
   ],
   "source": [
    "gene_drug_adj = sp.csr_matrix((10 * np.random.randn(n_genes, n_drugs) > 15).astype(int))\n",
    "drug_gene_adj = gene_drug_adj.transpose(copy=True)\n",
    "\n",
    "gene_drug_adj[0]"
   ]
  },
  {
   "cell_type": "code",
   "execution_count": 37,
   "metadata": {},
   "outputs": [
    {
     "data": {
      "text/plain": [
       "[<400x400 sparse matrix of type '<class 'numpy.float64'>'\n",
       " \twith 17724 stored elements in Compressed Sparse Row format>,\n",
       " <400x400 sparse matrix of type '<class 'numpy.float64'>'\n",
       " \twith 7916 stored elements in Compressed Sparse Row format>,\n",
       " <400x400 sparse matrix of type '<class 'numpy.float64'>'\n",
       " \twith 3018 stored elements in Compressed Sparse Row format>]"
      ]
     },
     "execution_count": 37,
     "metadata": {},
     "output_type": "execute_result"
    }
   ],
   "source": [
    "drug_drug_adj_list = []\n",
    "tmp = np.dot(drug_gene_adj, gene_drug_adj)\n",
    "for i in range(n_drugdrug_rel_types):\n",
    "    mat = np.zeros((n_drugs, n_drugs))\n",
    "    for d1, d2 in combinations(list(range(n_drugs)), 2):\n",
    "        if tmp[d1, d2] == i + 4:\n",
    "            mat[d1, d2] = mat[d2, d1] = 1.\n",
    "    drug_drug_adj_list.append(sp.csr_matrix(mat))\n",
    "drug_degrees_list = [np.array(drug_adj.sum(axis=0)).squeeze() for drug_adj in drug_drug_adj_list]\n",
    "\n",
    "drug_drug_adj_list"
   ]
  },
  {
   "cell_type": "code",
   "execution_count": 8,
   "metadata": {},
   "outputs": [
    {
     "name": "stdout",
     "output_type": "stream",
     "text": [
      "Edge types: 10\n"
     ]
    }
   ],
   "source": [
    "\n",
    "\n",
    "# data representation\n",
    "adj_mats_orig = {\n",
    "    (0, 0): [gene_adj, gene_adj.transpose(copy=True)],\n",
    "    (0, 1): [gene_drug_adj],\n",
    "    (1, 0): [drug_gene_adj],\n",
    "    (1, 1): drug_drug_adj_list + [x.transpose(copy=True) for x in drug_drug_adj_list],\n",
    "}\n",
    "degrees = {\n",
    "    0: [gene_degrees, gene_degrees],\n",
    "    1: drug_degrees_list + drug_degrees_list,\n",
    "}\n",
    "\n",
    "# featureless (genes)\n",
    "gene_feat = sp.identity(n_genes)\n",
    "gene_nonzero_feat, gene_num_feat = gene_feat.shape\n",
    "gene_feat = preprocessing.sparse_to_tuple(gene_feat.tocoo())\n",
    "\n",
    "# features (drugs)\n",
    "drug_feat = sp.identity(n_drugs)\n",
    "drug_nonzero_feat, drug_num_feat = drug_feat.shape\n",
    "drug_feat = preprocessing.sparse_to_tuple(drug_feat.tocoo())\n",
    "\n",
    "# data representation\n",
    "num_feat = {\n",
    "    0: gene_num_feat,\n",
    "    1: drug_num_feat,\n",
    "}\n",
    "nonzero_feat = {\n",
    "    0: gene_nonzero_feat,\n",
    "    1: drug_nonzero_feat,\n",
    "}\n",
    "feat = {\n",
    "    0: gene_feat,\n",
    "    1: drug_feat,\n",
    "}\n",
    "\n",
    "edge_type2dim = {k: [adj.shape for adj in adjs] for k, adjs in adj_mats_orig.items()}\n",
    "edge_type2decoder = {\n",
    "    (0, 0): 'bilinear',\n",
    "    (0, 1): 'bilinear',\n",
    "    (1, 0): 'bilinear',\n",
    "    (1, 1): 'dedicom',\n",
    "}\n",
    "\n",
    "edge_types = {k: len(v) for k, v in adj_mats_orig.items()}\n",
    "num_edge_types = sum(edge_types.values())\n",
    "print(\"Edge types:\", \"%d\" % num_edge_types)"
   ]
  },
  {
   "cell_type": "code",
   "execution_count": 7,
   "metadata": {},
   "outputs": [
    {
     "data": {
      "text/plain": [
       "defaultdict(int, {})"
      ]
     },
     "execution_count": 7,
     "metadata": {},
     "output_type": "execute_result"
    }
   ],
   "source": [
    "from collections import defaultdict\n",
    "\n",
    "a = defaultdict(int)\n",
    "a"
   ]
  },
  {
   "cell_type": "code",
   "execution_count": 61,
   "metadata": {},
   "outputs": [
    {
     "data": {
      "text/plain": [
       "'array([[1, 0, 4],\\n       [0, 0, 5],\\n       [2, 3, 6]])'"
      ]
     },
     "execution_count": 61,
     "metadata": {},
     "output_type": "execute_result"
    }
   ],
   "source": [
    "indptr = np.array([0, 2, 3, 6])\n",
    "indices = np.array([0, 2, 2, 0, 1, 2])\n",
    "data = np.array([1, 2, 3, 4, 5, 6])\n",
    "sp.csc_matrix((data, indices, indptr), shape=(3, 3)).toarray()\n",
    "'''array([[1, 0, 4],\n",
    "       [0, 0, 5],\n",
    "       [2, 3, 6]])'''"
   ]
  },
  {
   "cell_type": "code",
   "execution_count": 47,
   "metadata": {},
   "outputs": [
    {
     "data": {
      "text/plain": [
       "0          1329.0\n",
       "1          4654.0\n",
       "2          3589.0\n",
       "3          8283.0\n",
       "4          8212.0\n",
       "5         17125.0\n",
       "6         15143.0\n",
       "7          8214.0\n",
       "8          9137.0\n",
       "9         14864.0\n",
       "10            NaN\n",
       "11        13343.0\n",
       "12         8831.0\n",
       "13         8833.0\n",
       "14         8218.0\n",
       "15        15315.0\n",
       "16         8851.0\n",
       "17        18078.0\n",
       "18         8342.0\n",
       "19         8229.0\n",
       "20         8363.0\n",
       "21         6949.0\n",
       "22        17516.0\n",
       "23         8213.0\n",
       "24        15144.0\n",
       "25         1761.0\n",
       "26         8241.0\n",
       "27         8242.0\n",
       "28         8411.0\n",
       "29        14152.0\n",
       "           ...   \n",
       "131004    15899.0\n",
       "131005     8355.0\n",
       "131006    12132.0\n",
       "131007    14126.0\n",
       "131008    14166.0\n",
       "131009     3016.0\n",
       "131010    15141.0\n",
       "131011     3242.0\n",
       "131012    10728.0\n",
       "131013     8165.0\n",
       "131014    18491.0\n",
       "131015    14280.0\n",
       "131016     7408.0\n",
       "131017    18816.0\n",
       "131018    18386.0\n",
       "131019    12508.0\n",
       "131020    18786.0\n",
       "131021    14558.0\n",
       "131022     9837.0\n",
       "131023    12215.0\n",
       "131024     6903.0\n",
       "131025     5061.0\n",
       "131026    18775.0\n",
       "131027    10369.0\n",
       "131028    18717.0\n",
       "131029    16032.0\n",
       "131030    10989.0\n",
       "131031    12962.0\n",
       "131032    10142.0\n",
       "131033    12328.0\n",
       "Name: Gene, Length: 131034, dtype: float64"
      ]
     },
     "execution_count": 47,
     "metadata": {},
     "output_type": "execute_result"
    }
   ],
   "source": [
    "df = pd.read_csv(os.path.join('data', 'bio-decagon-targets-all.csv'))\n",
    "df\n",
    "df['STITCH'].map(stitch2idx)\n",
    "df['Gene'].astype('str').map(node2idx)\n"
   ]
  },
  {
   "cell_type": "code",
   "execution_count": 52,
   "metadata": {},
   "outputs": [
    {
     "data": {
      "text/plain": [
       "str"
      ]
     },
     "execution_count": 52,
     "metadata": {},
     "output_type": "execute_result"
    }
   ],
   "source": [
    "df2 = pd.read_csv(os.path.join('data', 'bio-decagon-combo.csv'))\n"
   ]
  },
  {
   "cell_type": "code",
   "execution_count": 63,
   "metadata": {},
   "outputs": [
    {
     "data": {
      "text/plain": [
       "2132055"
      ]
     },
     "execution_count": 63,
     "metadata": {},
     "output_type": "execute_result"
    }
   ],
   "source": [
    "df2['STITCH 1'].map(stitch2idx).isna().sum()\n",
    "#stitch2idx[CID000003461]"
   ]
  },
  {
   "cell_type": "code",
   "execution_count": 64,
   "metadata": {},
   "outputs": [
    {
     "data": {
      "text/plain": [
       "0          CID000002173\n",
       "1          CID000002173\n",
       "2          CID000002173\n",
       "3          CID000002173\n",
       "4          CID000002173\n",
       "5          CID000002173\n",
       "6          CID000002173\n",
       "7          CID000002173\n",
       "8          CID000002173\n",
       "9          CID000002173\n",
       "10         CID000002173\n",
       "11         CID000002173\n",
       "12         CID000002173\n",
       "13         CID000002173\n",
       "14         CID000002173\n",
       "15         CID000002173\n",
       "16         CID000002173\n",
       "17         CID000002173\n",
       "18         CID000002173\n",
       "19         CID000002173\n",
       "20         CID000002173\n",
       "21         CID000002173\n",
       "22         CID000002173\n",
       "23         CID000002173\n",
       "24         CID000002173\n",
       "25         CID000002173\n",
       "26         CID000002173\n",
       "27         CID000002173\n",
       "28         CID000002173\n",
       "29         CID000002173\n",
       "               ...     \n",
       "4649411    CID000003461\n",
       "4649412    CID000003461\n",
       "4649413    CID000003461\n",
       "4649414    CID000003461\n",
       "4649415    CID000003461\n",
       "4649416    CID000003461\n",
       "4649417    CID000003461\n",
       "4649418    CID000003461\n",
       "4649419    CID000003461\n",
       "4649420    CID000003461\n",
       "4649421    CID000003461\n",
       "4649422    CID000003461\n",
       "4649423    CID000003461\n",
       "4649424    CID000003461\n",
       "4649425    CID000003461\n",
       "4649426    CID000003461\n",
       "4649427    CID000003461\n",
       "4649428    CID000003461\n",
       "4649429    CID000003461\n",
       "4649430    CID000003461\n",
       "4649431    CID000003461\n",
       "4649432    CID000003461\n",
       "4649433    CID000003461\n",
       "4649434    CID000003461\n",
       "4649435    CID000003461\n",
       "4649436    CID000003461\n",
       "4649437    CID000003461\n",
       "4649438    CID000003461\n",
       "4649439    CID000003461\n",
       "4649440    CID000003461\n",
       "Name: STITCH 1, Length: 4649441, dtype: object"
      ]
     },
     "execution_count": 64,
     "metadata": {},
     "output_type": "execute_result"
    }
   ],
   "source": [
    "df2['STITCH 1']"
   ]
  }
 ],
 "metadata": {
  "kernelspec": {
   "display_name": "Python 3",
   "language": "python",
   "name": "python3"
  },
  "language_info": {
   "codemirror_mode": {
    "name": "ipython",
    "version": 3
   },
   "file_extension": ".py",
   "mimetype": "text/x-python",
   "name": "python",
   "nbconvert_exporter": "python",
   "pygments_lexer": "ipython3",
   "version": "3.6.6"
  }
 },
 "nbformat": 4,
 "nbformat_minor": 2
}
